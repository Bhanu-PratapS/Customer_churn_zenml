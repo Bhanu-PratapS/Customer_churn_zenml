{
 "cells": [
  {
   "cell_type": "code",
   "execution_count": 1,
   "metadata": {},
   "outputs": [],
   "source": [
    "import pandas as pd"
   ]
  },
  {
   "cell_type": "code",
   "execution_count": 5,
   "metadata": {},
   "outputs": [],
   "source": [
    "import os "
   ]
  },
  {
   "cell_type": "code",
   "execution_count": 6,
   "metadata": {},
   "outputs": [
    {
     "data": {
      "text/plain": [
       "'e:\\\\new_mlops'"
      ]
     },
     "execution_count": 6,
     "metadata": {},
     "output_type": "execute_result"
    }
   ],
   "source": [
    "os.getcwd()"
   ]
  },
  {
   "cell_type": "code",
   "execution_count": 11,
   "metadata": {},
   "outputs": [
    {
     "name": "stdout",
     "output_type": "stream",
     "text": [
      "Unique values in age column: [90. 82. 66. 54. 41. 34. 38. 74. 68. 45. 52. 32. 51. 46. 57. 22. 37. 29.\n",
      " 61. 21. 33. 49. 23. 59. 60. 63. 53. 44. 43. 71. 48. 73. 67. 40. 50. 42.\n",
      " 39. 55. 47. 31. 58. 62. 36. 72. 78. 83. 26. 70. 27. 35. 81. 65. 25. 28.\n",
      " 56. 69. 20. 30. 24. 64. 75. 19. 77. 80. 18. 17. 76. 79. 88. 84. 85. 86.\n",
      " 87.]\n",
      "Unique values in workclass column: ['?' 'Private' 'State-gov' 'Federal-gov' 'Self-emp-not-inc' 'Self-emp-inc'\n",
      " 'Local-gov' 'Without-pay' 'Never-worked']\n",
      "Unique values in education column: ['HS-grad' 'Some-college' '7th-8th' '10th' 'Doctorate' 'Prof-school'\n",
      " 'Bachelors' 'Masters' '11th' 'Assoc-acdm' 'Assoc-voc' '1st-4th' '5th-6th'\n",
      " '12th' '9th' 'Preschool']\n",
      "Unique values in education.num column: [ 9. 10.  4.  6. 16. 15. 13. 14.  7. 12. 11.  2.  3.  8.  5.  1.]\n",
      "Unique values in marital.status column: ['Widowed' 'Divorced' 'Separated' 'Never-married' 'Married-civ-spouse'\n",
      " 'Married-spouse-absent' 'Married-AF-spouse']\n",
      "Unique values in occupation column: ['?' 'Exec-managerial' 'Machine-op-inspct' 'Prof-specialty'\n",
      " 'Other-service' 'Adm-clerical' 'Craft-repair' 'Transport-moving'\n",
      " 'Handlers-cleaners' 'Sales' 'Farming-fishing' 'Tech-support'\n",
      " 'Protective-serv' 'Armed-Forces' 'Priv-house-serv']\n",
      "Unique values in relationship column: ['Not-in-family' 'Unmarried' 'Own-child' 'Other-relative' 'Husband' 'Wife']\n",
      "Unique values in race column: ['White' 'Black' 'Asian-Pac-Islander' 'Other' 'Amer-Indian-Eskimo']\n",
      "Unique values in sex column: ['Female' 'Male']\n",
      "Unique values in hours.per.week column: [40. 18. 45. 20. 60. 35. 55. 76. 50. 42. 25. 32. 90. 48. 15. 70. 52. 72.\n",
      " 39.  6. 65. 12. 80. 67. 99. 30. 75. 26. 36. 10. 84. 38. 62. 44.  8. 28.\n",
      " 59.  5. 24. 57. 34. 37. 46. 56. 41. 98. 43. 63.  1. 47. 68. 54.  2. 16.\n",
      "  9.  3.  4. 33. 23. 22. 64. 51. 19. 58. 53. 96. 66. 21.  7. 13. 27. 11.\n",
      " 14. 77. 31. 78. 49. 17. 85. 87. 88. 73. 89. 97. 94. 29. 82. 86. 91. 81.\n",
      " 92. 61. 74. 95.]\n",
      "Unique values in income column: ['<=50K' '>50K']\n"
     ]
    }
   ],
   "source": [
    "import os\n",
    "import pandas as pd\n",
    "\n",
    "folder_path = r'E:\\new_mlops\\data'\n",
    "\n",
    "# Get a list of all files in the folder\n",
    "files = os.listdir(folder_path)\n",
    "\n",
    "# Assuming all files are CSV, you can concatenate them into a single DataFrame\n",
    "dfs = [pd.read_csv(os.path.join(folder_path, file)) for file in files]\n",
    "\n",
    "# Concatenate the DataFrames\n",
    "df = pd.concat(dfs, ignore_index=True)\n",
    "\n",
    "# Print unique values in each column\n",
    "for column in df.columns:\n",
    "    unique_values = df[column].unique()\n",
    "    print(f\"Unique values in {column} column: {unique_values}\")\n"
   ]
  },
  {
   "cell_type": "code",
   "execution_count": 10,
   "metadata": {},
   "outputs": [
    {
     "name": "stdout",
     "output_type": "stream",
     "text": [
      "<class 'pandas.core.frame.DataFrame'>\n",
      "RangeIndex: 32561 entries, 0 to 32560\n",
      "Data columns (total 11 columns):\n",
      " #   Column          Non-Null Count  Dtype  \n",
      "---  ------          --------------  -----  \n",
      " 0   age             32561 non-null  float64\n",
      " 1   workclass       32561 non-null  object \n",
      " 2   education       32561 non-null  object \n",
      " 3   education.num   32561 non-null  float64\n",
      " 4   marital.status  32561 non-null  object \n",
      " 5   occupation      32561 non-null  object \n",
      " 6   relationship    32561 non-null  object \n",
      " 7   race            32561 non-null  object \n",
      " 8   sex             32561 non-null  object \n",
      " 9   hours.per.week  32561 non-null  float64\n",
      " 10  income          32561 non-null  object \n",
      "dtypes: float64(3), object(8)\n",
      "memory usage: 2.7+ MB\n"
     ]
    }
   ],
   "source": [
    "df.info()"
   ]
  },
  {
   "cell_type": "code",
   "execution_count": null,
   "metadata": {},
   "outputs": [],
   "source": []
  }
 ],
 "metadata": {
  "kernelspec": {
   "display_name": "env1",
   "language": "python",
   "name": "python3"
  },
  "language_info": {
   "codemirror_mode": {
    "name": "ipython",
    "version": 3
   },
   "file_extension": ".py",
   "mimetype": "text/x-python",
   "name": "python",
   "nbconvert_exporter": "python",
   "pygments_lexer": "ipython3",
   "version": "3.10.12"
  }
 },
 "nbformat": 4,
 "nbformat_minor": 2
}
